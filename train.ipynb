{
 "cells": [
  {
   "cell_type": "code",
   "execution_count": 1,
   "metadata": {},
   "outputs": [],
   "source": [
    "# !pip install https://files.pythonhosted.org/packages/03/16/63d67d3222044e702d0172cb412ef4a102240795740dacd6044bcc05786a/dlprog-1.2.8.tar.gz"
   ]
  },
  {
   "cell_type": "code",
   "execution_count": 2,
   "metadata": {},
   "outputs": [],
   "source": [
    "from pathlib import Path\n",
    "import json\n",
    "from datetime import datetime, timedelta, timezone\n",
    "\n",
    "import torch\n",
    "import torch.nn as nn\n",
    "import torch.optim as optim\n",
    "from dlprog import train_progress\n",
    "\n",
    "from models import load_model, save_model\n",
    "from data import SyncedPianos"
   ]
  },
  {
   "cell_type": "code",
   "execution_count": 3,
   "metadata": {},
   "outputs": [
    {
     "data": {
      "text/plain": [
       "(device(type='cuda', index=0), device(type='cuda', index=1))"
      ]
     },
     "execution_count": 3,
     "metadata": {},
     "output_type": "execute_result"
    }
   ],
   "source": [
    "device_pc = torch.device(\"cuda:0\")\n",
    "device_amt = device_pc if torch.cuda.device_count() <= 1 else torch.device(\"cuda:1\")\n",
    "prog = train_progress(width=20, defer=True)\n",
    "\n",
    "with open(\"models/config.json\", \"r\") as f:\n",
    "    CONFIG = json.load(f)\n",
    "n_frames = CONFIG[\"data\"][\"input\"][\"num_frame\"]\n",
    "path_pc = CONFIG[\"default\"][\"pc\"]\n",
    "\n",
    "JST = timezone(timedelta(hours=+9), \"JST\")\n",
    "\n",
    "device_pc, device_amt"
   ]
  },
  {
   "cell_type": "code",
   "execution_count": 4,
   "metadata": {},
   "outputs": [],
   "source": [
    "amt = load_model(amt=True, with_sv=False, device=device_amt)\n",
    "pc = load_model(amt=True, with_sv=True, device=device_pc)\n",
    "\n",
    "amt = torch.compile(amt)\n",
    "pc = torch.compile(pc)"
   ]
  },
  {
   "cell_type": "code",
   "execution_count": 5,
   "metadata": {},
   "outputs": [],
   "source": [
    "batch_size = 16"
   ]
  },
  {
   "cell_type": "code",
   "execution_count": 6,
   "metadata": {},
   "outputs": [],
   "source": [
    "dir_specs = Path(\"dataset/spec/\")\n",
    "synced_pianos = SyncedPianos(dir_specs, n_frames=n_frames, batch_size=batch_size)"
   ]
  },
  {
   "cell_type": "code",
   "execution_count": 7,
   "metadata": {},
   "outputs": [],
   "source": [
    "def select(label, thr, random_prob=0.3):\n",
    "    idx = (label > thr)\n",
    "    shifted_p = torch.roll(idx, 1, -1)\n",
    "    shifted_n = torch.roll(idx, -1, -1)\n",
    "    random = torch.rand(idx.shape).to(device_pc)\n",
    "    random = random < random_prob\n",
    "    idx = idx | shifted_p | shifted_n | random\n",
    "    return idx\n",
    "\n",
    "\n",
    "BCE_LOSS = nn.BCELoss()\n",
    "CE_LOSS = nn.CrossEntropyLoss()\n",
    "\n",
    "def loss_fn(pred, label, thr_onset=0.5, thr_offset=0.5, thr_mpe=0.5):\n",
    "    # unpack\n",
    "    onset_f_pred, offset_f_pred, mpe_f_pred, velocity_f_pred, _, \\\n",
    "    onset_t_pred, offset_t_pred, mpe_t_pred, velocity_t_pred = pred\n",
    "\n",
    "    _, _, _, _, _, \\\n",
    "    onset_label, offset_label, mpe_label, velocity_label = label\n",
    "\n",
    "    onset_label = (onset_label > thr_onset).float()\n",
    "    offset_label = (offset_label > thr_offset).float()\n",
    "    mpe_label = (mpe_label > thr_mpe).float()\n",
    "\n",
    "    # select\n",
    "    onset_idx = select(onset_label, thr_onset)\n",
    "    onset_f_pred = onset_f_pred[onset_idx]\n",
    "    onset_t_pred = onset_t_pred[onset_idx]\n",
    "    onset_label = (onset_label[onset_idx] > thr_onset).float()\n",
    "\n",
    "    offset_idx = select(offset_label, thr_offset)\n",
    "    offset_f_pred = offset_f_pred[offset_idx]\n",
    "    offset_t_pred = offset_t_pred[offset_idx]\n",
    "    offset_label = (offset_label[offset_idx] > thr_offset).float()\n",
    "\n",
    "    velocity_label = velocity_label.argmax(dim=-1)\n",
    "    velocity_idx = select(velocity_label, 0, 0.01)\n",
    "    velocity_f_pred = velocity_f_pred[velocity_idx]\n",
    "    velocity_t_pred = velocity_t_pred[velocity_idx]\n",
    "    velocity_label = velocity_label[velocity_idx]\n",
    "\n",
    "    # velocity_dim = velocity_f_pred.shape[-1]\n",
    "    # velocity_f_pred = velocity_f_pred.view(-1, velocity_dim)\n",
    "    # velocity_t_pred = velocity_t_pred.view(-1, velocity_dim)\n",
    "    # velocity_label = velocity_label.argmax(dim=-1).view(-1)\n",
    "\n",
    "    # loss\n",
    "    loss_onset_f = BCE_LOSS(onset_f_pred, onset_label)\n",
    "    loss_offset_f = BCE_LOSS(offset_f_pred, offset_label)\n",
    "    loss_mpe_f = BCE_LOSS(mpe_f_pred, mpe_label)\n",
    "    loss_velocity_f = CE_LOSS(velocity_f_pred, velocity_label)\n",
    "\n",
    "    loss_onset_t = BCE_LOSS(onset_t_pred, onset_label)\n",
    "    loss_offset_t = BCE_LOSS(offset_t_pred, offset_label)\n",
    "    loss_mpe_t = BCE_LOSS(mpe_t_pred, mpe_label)\n",
    "    loss_velocity_t = CE_LOSS(velocity_t_pred, velocity_label)\n",
    "\n",
    "    loss = \\\n",
    "        loss_onset_f + loss_offset_f + loss_mpe_f + loss_velocity_f + \\\n",
    "        loss_onset_t + loss_offset_t + loss_mpe_t + loss_velocity_t\n",
    "\n",
    "    return loss"
   ]
  },
  {
   "cell_type": "code",
   "execution_count": 8,
   "metadata": {},
   "outputs": [],
   "source": [
    "DIR_CHECKPOINTS = Path(\"models/params/checkpoints/\")\n",
    "FILE_NAME_LOG = \"log.txt\"\n",
    "\n",
    "def train(pc, amt, optimizer, scheduler, n_epochs=100):\n",
    "    pc.train()\n",
    "    amt.eval()\n",
    "\n",
    "    date = datetime.now(JST).strftime(\"%Y%m%d%H%M%S\")\n",
    "    dir_checkpoint = DIR_CHECKPOINTS / date\n",
    "    dir_checkpoint.mkdir()\n",
    "    file_log = dir_checkpoint / FILE_NAME_LOG\n",
    "\n",
    "    prog.start(n_iter=len(synced_pianos), n_epochs=n_epochs)\n",
    "    for epoch in range(1, n_epochs+1):\n",
    "        for n, sync_piano in enumerate(synced_pianos, 1):\n",
    "            for orig, piano, sv in sync_piano:\n",
    "                orig = orig.to(device_pc)\n",
    "                piano = piano.to(device_amt)\n",
    "                optimizer.zero_grad()\n",
    "\n",
    "                out_pc = pc(orig, sv=None)\n",
    "                with torch.no_grad():\n",
    "                    out_amt = amt(piano)\n",
    "                out_amt = [x.to(device_pc) for x in out_amt]\n",
    "\n",
    "                loss = loss_fn(out_pc, out_amt)\n",
    "                loss.backward()\n",
    "                optimizer.step()\n",
    "                prog.update(loss.item(), advance=0)\n",
    "\n",
    "            prog.update(note=f\"song: {n}/{len(synced_pianos)}\")\n",
    "            save_model(pc, path_pc)\n",
    "            with open(file_log, \"a\") as f:\n",
    "                f.write(f\"{n}, {prog.now_values()}\\n\")\n",
    "\n",
    "        scheduler.step(prog.now_values())\n",
    "        with open(file_log, \"a\") as f:\n",
    "            time = datetime.now(JST).strftime(\"%Y/%m/%d %H:%M\")\n",
    "            f.write(f\"{time}, epoch {epoch} finished, loss: {prog.now_values()}\\n\")\n",
    "\n",
    "        prog.memo()"
   ]
  },
  {
   "cell_type": "code",
   "execution_count": 9,
   "metadata": {},
   "outputs": [],
   "source": [
    "torch.set_float32_matmul_precision(\"high\")"
   ]
  },
  {
   "cell_type": "code",
   "execution_count": 10,
   "metadata": {},
   "outputs": [],
   "source": [
    "optimizer = optim.Adam(pc.parameters(), lr=1e-4)\n",
    "scheduler = optim.lr_scheduler.ReduceLROnPlateau(optimizer)"
   ]
  },
  {
   "cell_type": "code",
   "execution_count": null,
   "metadata": {},
   "outputs": [],
   "source": [
    "train(pc, amt, optimizer, scheduler)"
   ]
  }
 ],
 "metadata": {
  "kernelspec": {
   "display_name": "Python 3 (ipykernel)",
   "language": "python",
   "name": "python3"
  }
 },
 "nbformat": 4,
 "nbformat_minor": 2
}
