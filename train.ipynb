{
 "cells": [
  {
   "cell_type": "code",
   "execution_count": 1,
   "metadata": {},
   "outputs": [],
   "source": [
    "# !pip install https://files.pythonhosted.org/packages/03/16/63d67d3222044e702d0172cb412ef4a102240795740dacd6044bcc05786a/dlprog-1.2.8.tar.gz"
   ]
  },
  {
   "cell_type": "code",
   "execution_count": 2,
   "metadata": {},
   "outputs": [],
   "source": [
    "from pathlib import Path\n",
    "import json\n",
    "from datetime import datetime, timedelta, timezone\n",
    "\n",
    "import torch\n",
    "import torch.nn as nn\n",
    "import torch.optim as optim\n",
    "from torch.utils.data import DataLoader\n",
    "from dlprog import train_progress\n",
    "\n",
    "from data import PianoCoversDataset\n",
    "from models import load_model, save_model\n",
    "from train import loss_fn\n",
    "\n",
    "\n",
    "prog = train_progress(width=20, defer=True)\n",
    "\n",
    "with open(\"models/config.json\", \"r\") as f:\n",
    "    CONFIG = json.load(f)\n",
    "path_pc = CONFIG[\"default\"][\"pc\"]\n",
    "\n",
    "JST = timezone(timedelta(hours=+9), \"JST\")\n",
    "device = torch.device(\"cuda\" if torch.cuda.is_available() else \"cpu\")"
   ]
  },
  {
   "cell_type": "code",
   "execution_count": 5,
   "metadata": {},
   "outputs": [],
   "source": [
    "model = load_model(amt=True, with_sv=True, device=device)\n",
    "model = torch.compile(model)\n",
    "torch.set_float32_matmul_precision(\"high\")"
   ]
  },
  {
   "cell_type": "code",
   "execution_count": 6,
   "metadata": {},
   "outputs": [],
   "source": [
    "batch_size = 4\n",
    "dir_dataset = Path(\"dataset/\")\n",
    "dataset = PianoCoversDataset(dir_dataset)\n",
    "dataloader = DataLoader(dataset, batch_size=batch_size, shuffle=True)"
   ]
  },
  {
   "cell_type": "code",
   "execution_count": 9,
   "metadata": {},
   "outputs": [],
   "source": [
    "DIR_CHECKPOINTS = Path(\"models/params/checkpoints/\")\n",
    "FILE_NAME_LOG = \"log.txt\"\n",
    "\n",
    "def train(model, dataloader, optimizer, scheduler, n_epochs=100):\n",
    "    date = datetime.now(JST).strftime(\"%Y%m%d%H%M%S\")\n",
    "    dir_checkpoint = DIR_CHECKPOINTS / date\n",
    "    dir_checkpoint.mkdir()\n",
    "    file_log = dir_checkpoint / FILE_NAME_LOG\n",
    "\n",
    "    model.train()\n",
    "    prog.start(n_iter=len(dataset), n_epochs=n_epochs, label=[\"loss\", \"f1\"])\n",
    "    for epoch in range(1, n_epochs+1):\n",
    "        for n, batch in enumerate(dataloader):\n",
    "            spec, sv, onset, offset, mpe, velocity = batch\n",
    "            spec = spec.to(device)\n",
    "            sv = sv.to(device)\n",
    "            onset = onset.to(device)\n",
    "            offset = offset.to(device)\n",
    "            mpe = mpe.to(device)\n",
    "            velocity = velocity.to(device)\n",
    "\n",
    "            optimizer.zero_grad()\n",
    "            out = model(spec, sv)\n",
    "            loss, f1 = loss_fn(out, (onset, offset, mpe, velocity))\n",
    "            loss.backward()\n",
    "            optimizer.step()\n",
    "\n",
    "            prog.update([loss.item(), f1])\n",
    "            if n % 100 == 0:\n",
    "                save_model(model, path_pc)\n",
    "                with open(file_log, \"a\") as f:\n",
    "                    f.write(f\"{n}, {prog.now_values()}\\n\")\n",
    "\n",
    "        loss, f1 = prog.now_values()\n",
    "        scheduler.step(loss)\n",
    "        path_pc_epoch = dir_checkpoint / f\"{epoch}.pth\"\n",
    "        save_model(model, path_pc_epoch)\n",
    "        with open(file_log, \"a\") as f:\n",
    "            time = datetime.now(JST).strftime(\"%Y/%m/%d %H:%M\")\n",
    "            f.write(f\"{time}, epoch {epoch} finished, loss: {loss}, f1: {f1}\\n\")\n",
    "\n",
    "        prog.memo()"
   ]
  },
  {
   "cell_type": "code",
   "execution_count": 11,
   "metadata": {},
   "outputs": [],
   "source": [
    "optimizer = optim.Adam(model.parameters(), lr=1e-4)\n",
    "scheduler = optim.lr_scheduler.ReduceLROnPlateau(optimizer)"
   ]
  },
  {
   "cell_type": "code",
   "execution_count": null,
   "metadata": {},
   "outputs": [],
   "source": [
    "train(model, dataloader, optimizer, scheduler, n_epochs=100)"
   ]
  }
 ],
 "metadata": {
  "kernelspec": {
   "display_name": "Python 3 (ipykernel)",
   "language": "python",
   "name": "python3"
  },
  "language_info": {
   "name": "python",
   "version": "3.12.3"
  }
 },
 "nbformat": 4,
 "nbformat_minor": 2
}
